{
 "cells": [
  {
   "cell_type": "markdown",
   "metadata": {},
   "source": [
    "# Minimização de Autômatos Finitos"
   ]
  },
  {
   "cell_type": "markdown",
   "metadata": {},
   "source": [
    "### Importações"
   ]
  },
  {
   "cell_type": "code",
   "execution_count": 24,
   "metadata": {},
   "outputs": [],
   "source": [
    "import sys\n",
    "\n",
    "# implementadas\n"
   ]
  },
  {
   "cell_type": "markdown",
   "metadata": {},
   "source": [
    "### Abrindo o arquivo"
   ]
  },
  {
   "cell_type": "code",
   "execution_count": 25,
   "metadata": {},
   "outputs": [
    {
     "name": "stdout",
     "output_type": "stream",
     "text": [
      "Procurando estados equivalentes...\n"
     ]
    }
   ],
   "source": [
    "with open(\"test/teste.txt\", \"r\") as f: # recebe o arquivo por parametro\n",
    "    auxList1 = [line.strip().split(\" \") for line in f] # armazena em uma lista\n",
    "if auxList1 == None:\n",
    "    print(\"\\nNao foi possivel carregar o LFA!\\nExecute o codigo novamente passando o txt correto por parametro.\\n\")\n",
    "else:\n",
    "    print(\"Procurando estados equivalentes...\")\n",
    "    alfabeto = auxList1[0]\n",
    "    transicoes = auxList1[7:]\n",
    "\n",
    "    "
   ]
  },
  {
   "cell_type": "markdown",
   "metadata": {},
   "source": [
    "### Remove estados inalcançáveis"
   ]
  },
  {
   "cell_type": "code",
   "execution_count": null,
   "metadata": {},
   "outputs": [],
   "source": []
  },
  {
   "cell_type": "markdown",
   "metadata": {},
   "source": [
    "### Busca por estados equivalentes"
   ]
  },
  {
   "cell_type": "markdown",
   "metadata": {},
   "source": [
    "#### Métodos que retorna estados equivalentes"
   ]
  },
  {
   "cell_type": "code",
   "execution_count": 30,
   "metadata": {},
   "outputs": [],
   "source": [
    "def table_create(lista, alfabeto, transicoes):  # Cria a tabela de estados \n",
    "    equiv = []\n",
    "    \n",
    "    for n in lista[:(len(lista)-1)]: # Ex: 0, 1, 2, 3, 4 menos o ultimo\n",
    "        for i in lista.reverse[1:]:  # Ex: 1, 2, 3, 4, 5 menos o primeiro\n",
    "\n",
    "            equiv.append(equivalent_match(n,i,transicoes)) # n= estado1 , i= estado 2,\n",
    "    return equiv\n",
    "\n",
    "\n",
    "def equivalent_match(sx,sy,transicoes): # retorna se equivalent (compara as transicoes )\n",
    "    return None"
   ]
  },
  {
   "cell_type": "code",
   "execution_count": null,
   "metadata": {},
   "outputs": [],
   "source": []
  },
  {
   "cell_type": "markdown",
   "metadata": {},
   "source": [
    "### Construção da versão minimizada"
   ]
  },
  {
   "cell_type": "code",
   "execution_count": null,
   "metadata": {},
   "outputs": [],
   "source": []
  },
  {
   "cell_type": "code",
   "execution_count": null,
   "metadata": {},
   "outputs": [],
   "source": []
  }
 ],
 "metadata": {
  "kernelspec": {
   "display_name": "Python 3",
   "language": "python",
   "name": "python3"
  },
  "language_info": {
   "codemirror_mode": {
    "name": "ipython",
    "version": 3
   },
   "file_extension": ".py",
   "mimetype": "text/x-python",
   "name": "python",
   "nbconvert_exporter": "python",
   "pygments_lexer": "ipython3",
   "version": "3.7.3"
  }
 },
 "nbformat": 4,
 "nbformat_minor": 2
}
