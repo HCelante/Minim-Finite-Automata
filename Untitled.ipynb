{
 "cells": [
  {
   "cell_type": "markdown",
   "metadata": {},
   "source": [
    "# Minimização de Autômatos Finitos"
   ]
  },
  {
   "cell_type": "markdown",
   "metadata": {},
   "source": [
    "### Importações"
   ]
  },
  {
   "cell_type": "code",
   "execution_count": 17,
   "metadata": {},
   "outputs": [],
   "source": [
    "import sys"
   ]
  },
  {
   "cell_type": "markdown",
   "metadata": {},
   "source": [
    "### Abrindo o arquivo"
   ]
  },
  {
   "cell_type": "code",
   "execution_count": 3,
   "metadata": {},
   "outputs": [],
   "source": [
    "with open(\"test/teste.txt\", \"r\") as f: # recebe o arquivo por parametro\n",
    "    auxList1 = [line.strip().split(\" \") for line in f] # armazena em uma lista\n",
    "if auxList1 == None:\n",
    "    print(\"\\nNao foi possivel carregar o LFA!\\nExecute o codigo novamente passando o txt correto por parametro.\\n\")\n",
    "else:\n",
    "    pass\n",
    "\n",
    "    "
   ]
  },
  {
   "cell_type": "markdown",
   "metadata": {},
   "source": [
    "### Separando os itens"
   ]
  },
  {
   "cell_type": "code",
   "execution_count": 12,
   "metadata": {},
   "outputs": [],
   "source": [
    "alfabeto = auxList1[1]\n",
    "estados = auxList1[3]\n",
    "estados_finais = auxList1[5]\n",
    "estados_iniciais = auxList1[4]\n",
    "branco = auxList1[2]\n",
    "transicoes = auxList1[6:]"
   ]
  },
  {
   "cell_type": "markdown",
   "metadata": {},
   "source": [
    "### Gerando a lista de transições por estado"
   ]
  },
  {
   "cell_type": "code",
   "execution_count": 22,
   "metadata": {},
   "outputs": [
    {
     "name": "stdout",
     "output_type": "stream",
     "text": [
      "[['s0', 'r', 's1'], ['s0', 'b', 's2']]\n",
      "[['s1', 'r', 's3'], ['s1', 'b', 's4']]\n",
      "[['s2', 'r', 's3'], ['s2', 'b', 's5']]\n",
      "[['s3', 'r', 's3'], ['s3', 'b', 's6']]\n",
      "[['s4', 'r', 's3'], ['s4', 'b', 's6']]\n",
      "[['s5', 'r', 's3'], ['s5', 'b', 's2']]\n",
      "[['s6', 'r', 's3'], ['s6', 'b', 's6']]\n",
      "[['s7', 'r', 's7'], ['s7', 'b', 's1']]\n"
     ]
    }
   ],
   "source": [
    "estado_transicoes = []\n",
    "for estado in sorted(estados):\n",
    "    tr_st=[]\n",
    "    for tr in transicoes:\n",
    "        if(tr[0] == estado):\n",
    "            tr_st.append(tr)\n",
    "    estado_transicoes.append(tr_st)\n",
    "for trs in estado_transicoes:\n",
    "    print(trs)"
   ]
  },
  {
   "cell_type": "markdown",
   "metadata": {},
   "source": [
    "### Busca estados inalcançáveis"
   ]
  },
  {
   "cell_type": "code",
   "execution_count": 23,
   "metadata": {},
   "outputs": [
    {
     "name": "stdout",
     "output_type": "stream",
     "text": [
      "['s0', 's1', 's2', 's3', 's4', 's5', 's6']\n",
      "['s0', 's1', 's2', 's3', 's4', 's5', 's6', 's7']\n"
     ]
    }
   ],
   "source": [
    "mantidos = []\n",
    "aindaha = True\n",
    "while aindaha:\n",
    "    tamanhoant = len(mantidos)\n",
    "    mantidos = []\n",
    "    mantidos = mantidos + estados_iniciais\n",
    "    for estd in estado_transicoes:\n",
    "        #print(estd[0])\n",
    "        for tr in estd:\n",
    "            #print(tr)\n",
    "            if(tr[2] != tr[0]):\n",
    "                mantidos.append(tr[2])\n",
    "                \n",
    "    mantidos = set(mantidos)\n",
    "    if len(mantidos) == tamanhoant:\n",
    "        aindaha = False \n",
    "print(sorted(mantidos))\n",
    "print(estados)"
   ]
  },
  {
   "cell_type": "markdown",
   "metadata": {},
   "source": [
    "### Remoção de transições com estados inalcançáveis"
   ]
  },
  {
   "cell_type": "markdown",
   "metadata": {},
   "source": [
    "#### Buscando os estados a serem removidos"
   ]
  },
  {
   "cell_type": "code",
   "execution_count": 24,
   "metadata": {},
   "outputs": [
    {
     "name": "stdout",
     "output_type": "stream",
     "text": [
      "['s7']\n"
     ]
    }
   ],
   "source": [
    "sort_man = sorted(mantidos)\n",
    "sort_est = sorted(estados)\n",
    "sort_out = sort_est[len(sort_man):] # lista de estados a serem removidos\n",
    "print(sort_out)"
   ]
  },
  {
   "cell_type": "code",
   "execution_count": 26,
   "metadata": {},
   "outputs": [
    {
     "name": "stdout",
     "output_type": "stream",
     "text": [
      "[['s0', 'r', 's1'], ['s0', 'b', 's2']]\n",
      "[['s1', 'r', 's3'], ['s1', 'b', 's4']]\n",
      "[['s2', 'r', 's3'], ['s2', 'b', 's5']]\n",
      "[['s3', 'r', 's3'], ['s3', 'b', 's6']]\n",
      "[['s4', 'r', 's3'], ['s4', 'b', 's6']]\n",
      "[['s5', 'r', 's3'], ['s5', 'b', 's2']]\n",
      "[['s6', 'r', 's3'], ['s6', 'b', 's6']]\n"
     ]
    }
   ],
   "source": [
    "trSinc = estado_transicoes[:len(estado_transicoes) - len(sort_out)]\n",
    "for trs in trSinc:    \n",
    "    print(trs)"
   ]
  },
  {
   "cell_type": "markdown",
   "metadata": {},
   "source": [
    "### Busca por estados equivalentes"
   ]
  },
  {
   "cell_type": "markdown",
   "metadata": {},
   "source": [
    "#### Métodos que retorna estados equivalentes"
   ]
  },
  {
   "cell_type": "code",
   "execution_count": 13,
   "metadata": {},
   "outputs": [
    {
     "name": "stdout",
     "output_type": "stream",
     "text": [
      "[['s2', 's4'], ['s2', 's3'], ['s3', 's4'], ['s3', 's2'], ['s4', 's3'], ['s4', 's2']]\n"
     ]
    }
   ],
   "source": [
    "equiv = []\n",
    "for n in estados[:(len(estados)-1)]: # Ex: 0, 1, 2, 3, 4 menos o ultimo\n",
    "    for i in reversed(estados[1:]):  # Ex: 1, 2, 3, 4, 5 menos o primeiro\n",
    "        equiv.append(equivalent_match(n,i,transicoes,alfabeto,estados_finais)) # n= estado1 , i= estado 2,    \n",
    "equiv = list(filter(None, equiv))\n",
    "print(equiv)"
   ]
  },
  {
   "cell_type": "code",
   "execution_count": 10,
   "metadata": {},
   "outputs": [],
   "source": [
    "def equivalent_match(sx,sy,transicoes,alfabeto,estados_finais): # retorna se equivalent (compara as transicoes )\n",
    "    if sx == sy: #Se forem a mesma transicao já nem compara\n",
    "        return None\n",
    "\n",
    "    if not(is_estado_final(sx,estados_finais) == is_estado_final(sy, estados_finais)): #Se ambas não forem estados de aceitação ou o contrário, significa que não tem a mesma decisão para a palavra vazia, sendo não equivalentes\n",
    "        return None\n",
    "\n",
    "    for simbolo in alfabeto:#Verifica a equivalencia para cada letra do alfabeto, até achar a primeira a não ser equivalente\n",
    "        linhaX = find_row(sx, simbolo, transicoes)# acha a linha com o estado, e o simbolo do alfabeto desta iteração\n",
    "        linhaY = find_row(sy, simbolo, transicoes)\n",
    "\n",
    "        if linhaX[2] != linhaY[2]:#se ambas forem para estados diferentes verifica se são estados finais/aceitação\n",
    "            if not(is_estado_final(linhaX[2],estados_finais) and is_estado_final(linhaY[2], estados_finais)):#se ambas forem para estados diferentes de não aceitação devolvemos nada\n",
    "                return None\n",
    "\n",
    "    return [sx, sy]"
   ]
  },
  {
   "cell_type": "markdown",
   "metadata": {},
   "source": [
    "Método abaixo verifica se o estado passado por parâmetro é um estado final"
   ]
  },
  {
   "cell_type": "code",
   "execution_count": 9,
   "metadata": {},
   "outputs": [],
   "source": [
    "def is_estado_final(estado, estados_finais):\n",
    "    for estadoF in estados_finais:\n",
    "        if estadoF == estado:\n",
    "            return True\n",
    "    return False"
   ]
  },
  {
   "cell_type": "markdown",
   "metadata": {},
   "source": [
    "Método que ao receber por parâmetro o estado, o simbolo e a lista de transições, e retorna a lista correspondente"
   ]
  },
  {
   "cell_type": "code",
   "execution_count": 8,
   "metadata": {},
   "outputs": [],
   "source": [
    "def find_row(estado, simbolo, transicoes):\n",
    "    for linha in transicoes:\n",
    "        if estado == linha[0] and simbolo == linha[1]:\n",
    "            return linha\n",
    "    return None"
   ]
  },
  {
   "cell_type": "markdown",
   "metadata": {},
   "source": [
    "### Construção da versão minimizada"
   ]
  },
  {
   "cell_type": "code",
   "execution_count": null,
   "metadata": {},
   "outputs": [],
   "source": []
  },
  {
   "cell_type": "code",
   "execution_count": null,
   "metadata": {},
   "outputs": [],
   "source": []
  }
 ],
 "metadata": {
  "kernelspec": {
   "display_name": "Python 3",
   "language": "python",
   "name": "python3"
  },
  "language_info": {
   "codemirror_mode": {
    "name": "ipython",
    "version": 3
   },
   "file_extension": ".py",
   "mimetype": "text/x-python",
   "name": "python",
   "nbconvert_exporter": "python",
   "pygments_lexer": "ipython3",
   "version": "3.6.8"
  }
 },
 "nbformat": 4,
 "nbformat_minor": 2
}
