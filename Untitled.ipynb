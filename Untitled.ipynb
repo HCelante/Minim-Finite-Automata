{
 "cells": [
  {
   "cell_type": "markdown",
   "metadata": {},
   "source": [
    "# Minimização de Autômatos Finitos"
   ]
  },
  {
   "cell_type": "markdown",
   "metadata": {},
   "source": [
    "### Importações"
   ]
  },
  {
   "cell_type": "code",
   "execution_count": 1,
   "metadata": {},
   "outputs": [],
   "source": [
    "import sys"
   ]
  },
  {
   "cell_type": "markdown",
   "metadata": {},
   "source": [
    "### Abrindo o arquivo"
   ]
  },
  {
   "cell_type": "code",
   "execution_count": 2,
   "metadata": {},
   "outputs": [],
   "source": [
    "with open(\"test/teste.txt\", \"r\") as f: # recebe o arquivo por parametro\n",
    "    auxList1 = [line.strip().split(\" \") for line in f] # armazena em uma lista\n",
    "if auxList1 == None:\n",
    "    print(\"\\nNao foi possivel carregar o LFA!\\nExecute o codigo novamente passando o txt correto por parametro.\\n\")\n",
    "else:\n",
    "    pass\n",
    "\n",
    "    "
   ]
  },
  {
   "cell_type": "markdown",
   "metadata": {},
   "source": [
    "### Separando os itens"
   ]
  },
  {
   "cell_type": "code",
   "execution_count": 3,
   "metadata": {},
   "outputs": [
    {
     "name": "stdout",
     "output_type": "stream",
     "text": [
      "['r', 'b']\n",
      "['s0', 's1', 's2', 's3', 's4', 's5', 's6', 's7', 's8']\n",
      "['s5', 's6']\n",
      "['s0']\n",
      "['E']\n",
      "[['s0', 'r', 's1'], ['s0', 'b', 's2'], ['s1', 'r', 's3'], ['s1', 'b', 's4'], ['s2', 'r', 's3'], ['s2', 'b', 's5'], ['s3', 'r', 's3'], ['s3', 'b', 's6'], ['s4', 'r', 's3'], ['s4', 'b', 's6'], ['s5', 'r', 's3'], ['s5', 'b', 's2'], ['s6', 'r', 's3'], ['s6', 'b', 's6'], ['s7', 'r', 's7'], ['s7', 'b', 's8']]\n"
     ]
    }
   ],
   "source": [
    "alfabeto = auxList1[1]\n",
    "estados = auxList1[3]\n",
    "estados_finais = auxList1[5]\n",
    "estados_iniciais = auxList1[4]\n",
    "branco = auxList1[2]\n",
    "transicoes = auxList1[6:]\n",
    "print(alfabeto)\n",
    "print (estados)\n",
    "print(estados_finais)\n",
    "print(estados_iniciais)\n",
    "print(branco)\n",
    "print(transicoes)"
   ]
  },
  {
   "cell_type": "markdown",
   "metadata": {},
   "source": [
    "### Gerando a lista de transições por estado"
   ]
  },
  {
   "cell_type": "code",
   "execution_count": 4,
   "metadata": {},
   "outputs": [
    {
     "name": "stdout",
     "output_type": "stream",
     "text": [
      "[['s0', 'r', 's1'], ['s0', 'b', 's2']]\n",
      "[['s1', 'r', 's3'], ['s1', 'b', 's4']]\n",
      "[['s2', 'r', 's3'], ['s2', 'b', 's5']]\n",
      "[['s3', 'r', 's3'], ['s3', 'b', 's6']]\n",
      "[['s4', 'r', 's3'], ['s4', 'b', 's6']]\n",
      "[['s5', 'r', 's3'], ['s5', 'b', 's2']]\n",
      "[['s6', 'r', 's3'], ['s6', 'b', 's6']]\n",
      "[['s7', 'r', 's7'], ['s7', 'b', 's8']]\n",
      "[]\n"
     ]
    }
   ],
   "source": [
    "estado_transicoes = []\n",
    "for estado in sorted(estados):\n",
    "    tr_st=[]\n",
    "    for tr in transicoes:\n",
    "        if(tr[0] == estado):\n",
    "            tr_st.append(tr)\n",
    "    estado_transicoes.append(tr_st)\n",
    "for trs in estado_transicoes:\n",
    "    print(trs)"
   ]
  },
  {
   "cell_type": "markdown",
   "metadata": {},
   "source": [
    "### Busca estados inalcançáveis"
   ]
  },
  {
   "cell_type": "code",
   "execution_count": 5,
   "metadata": {},
   "outputs": [
    {
     "name": "stdout",
     "output_type": "stream",
     "text": [
      "Estados inalcancaveis ['s7']\n",
      "Possiveis estados alcancaveis por inalcancaveis ['s8']\n",
      "Estados à serem retirados ['s8', 's7']\n"
     ]
    }
   ],
   "source": [
    "lista_mantidos = [] + estados_iniciais\n",
    "lista_excluidos = []\n",
    "# busca por inalcancaveis\n",
    "for estado in estados:\n",
    "    for tr in transicoes:\n",
    "        if((tr[0] != estado) and (tr[2] == estado)):\n",
    "            lista_mantidos.append(estado)\n",
    "\n",
    "        \n",
    "        \n",
    "retirados = list(set(estados) - set(lista_mantidos ))\n",
    "print(\"Estados inalcancaveis\",retirados)\n",
    "alc_por_nalc = []\n",
    "\n",
    "\n",
    "for tra in transicoes:\n",
    "    if((tra[0] in retirados) and (tra[2] != tra[0])):\n",
    "        #print(tra[0])\n",
    "        alc_por_nalc.append(estado)\n",
    "            \n",
    "print(\"Possiveis estados alcancaveis por inalcancaveis\",alc_por_nalc)    \n",
    "\n",
    "for tra in transicoes:\n",
    "    for st in alc_por_nalc:\n",
    "        if((tra[2] == st) and (tra[0] not in retirados)):\n",
    "            del(st)\n",
    "print(\"Estados à serem retirados\",alc_por_nalc + retirados)\n",
    "retirados = retirados + alc_por_nalc "
   ]
  },
  {
   "cell_type": "markdown",
   "metadata": {},
   "source": [
    "### Remoção de transições com estados inalcançáveis"
   ]
  },
  {
   "cell_type": "markdown",
   "metadata": {},
   "source": [
    "#### Buscando os estados a serem removidos"
   ]
  },
  {
   "cell_type": "code",
   "execution_count": 6,
   "metadata": {},
   "outputs": [
    {
     "name": "stdout",
     "output_type": "stream",
     "text": [
      "[]\n"
     ]
    }
   ],
   "source": [
    "sort_man = sorted(lista_mantidos)\n",
    "sort_est = sorted(estados)\n",
    "sort_out = sort_est[len(sort_man):] # lista de estados a serem removidos\n",
    "print(sort_out)"
   ]
  },
  {
   "cell_type": "code",
   "execution_count": 7,
   "metadata": {},
   "outputs": [
    {
     "name": "stdout",
     "output_type": "stream",
     "text": [
      "[['s0', 'r', 's1'], ['s0', 'b', 's2']]\n",
      "[['s1', 'r', 's3'], ['s1', 'b', 's4']]\n",
      "[['s2', 'r', 's3'], ['s2', 'b', 's5']]\n",
      "[['s3', 'r', 's3'], ['s3', 'b', 's6']]\n",
      "[['s4', 'r', 's3'], ['s4', 'b', 's6']]\n",
      "[['s5', 'r', 's3'], ['s5', 'b', 's2']]\n",
      "[['s6', 'r', 's3'], ['s6', 'b', 's6']]\n",
      "['s0', 's5', 's2', 's1', 's6', 's4', 's3']\n"
     ]
    }
   ],
   "source": [
    "newTrs = []\n",
    "index_excluded = []\n",
    "#for ex in sort_out:\n",
    "#    index_excluded.append(estados.index(ex))\n",
    "for ttrs in estado_transicoes:\n",
    "    for state in ttrs:\n",
    "        #print(state[0])\n",
    "        #print(retirados)\n",
    "        if((str(state[0]) not in retirados) and (str(state[2]) not in retirados)):\n",
    "            print(ttrs)\n",
    "            newTrs.append(ttrs)\n",
    "            break\n",
    "estados = list(set(estados) - set(retirados))\n",
    "print(estados)"
   ]
  },
  {
   "cell_type": "markdown",
   "metadata": {},
   "source": [
    "### Busca por estados equivalentes"
   ]
  },
  {
   "cell_type": "markdown",
   "metadata": {},
   "source": [
    "#### Métodos que retorna estados equivalentes"
   ]
  },
  {
   "cell_type": "markdown",
   "metadata": {},
   "source": [
    "#### Método que ao receber por parâmetro o estado, o simbolo e a lista de transições, e retorna a transicão correspondente"
   ]
  },
  {
   "cell_type": "code",
   "execution_count": 8,
   "metadata": {},
   "outputs": [],
   "source": [
    "def find_row(estado, simbolo, transicoes):\n",
    "#     print(estado, simbolo)\n",
    "    for linha in transicoes:\n",
    "        if estado == linha[0] and simbolo == linha[1]:\n",
    "            return linha\n",
    "    return None"
   ]
  },
  {
   "cell_type": "markdown",
   "metadata": {},
   "source": [
    "### Método abaixo verifica se o estado passado por parâmetro é um estado final"
   ]
  },
  {
   "cell_type": "code",
   "execution_count": 9,
   "metadata": {},
   "outputs": [],
   "source": [
    "def is_estado_final(estado, estados_finais):\n",
    "    for estadoF in estados_finais:\n",
    "        if estadoF == estado:\n",
    "            return True\n",
    "    return False"
   ]
  },
  {
   "cell_type": "code",
   "execution_count": 10,
   "metadata": {},
   "outputs": [],
   "source": [
    "def equivalent_match(sx,sy,transicoes,alfabeto,estados_finais): # retorna se equivalent (compara as transicoes )\n",
    "    if sx == sy: #Se forem a mesma transicao já nem compara\n",
    "        return None\n",
    "\n",
    "    if not(is_estado_final(sx,estados_finais) == is_estado_final(sy, estados_finais)): #Se ambas não forem estados de aceitação ou o contrário, significa que não tem a mesma decisão para a palavra vazia, sendo não equivalentes\n",
    "        return None\n",
    "\n",
    "    for simbolo in alfabeto:#Verifica a equivalencia para cada letra do alfabeto, até achar a primeira a não ser equivalente\n",
    "        linhaX = find_row(sx, simbolo, transicoes)# acha a linha com o estado, e o simbolo do alfabeto desta iteração\n",
    "        linhaY = find_row(sy, simbolo, transicoes)\n",
    "\n",
    "        if linhaX[2] != linhaY[2]:#se ambas forem para estados diferentes verifica se são estados finais/aceitação\n",
    "            if not(is_estado_final(linhaX[2],estados_finais) and is_estado_final(linhaY[2], estados_finais)):#se ambas forem para estados diferentes de não aceitação devolvemos nada\n",
    "                return None\n",
    "\n",
    "    return [sx, sy]"
   ]
  },
  {
   "cell_type": "code",
   "execution_count": 11,
   "metadata": {},
   "outputs": [
    {
     "name": "stdout",
     "output_type": "stream",
     "text": [
      "[['s2', 's3'], ['s2', 's4'], ['s4', 's3'], ['s4', 's2']]\n"
     ]
    }
   ],
   "source": [
    "equiv = []\n",
    "for n in estados[:(len(estados)-1)]: # Ex: 0, 1, 2, 3, 4 menos o ultimo\n",
    "    for i in reversed(estados[1:]):  # Ex: 1, 2, 3, 4, 5 menos o primeiro\n",
    "        equiv.append(equivalent_match(n,i,transicoes,alfabeto,estados_finais)) # n= estado1 , i= estado 2,    \n",
    "equiv = list(filter(None, equiv))\n",
    "print(equiv)"
   ]
  },
  {
   "cell_type": "markdown",
   "metadata": {},
   "source": [
    "### Construção da versão minimizada"
   ]
  },
  {
   "cell_type": "markdown",
   "metadata": {},
   "source": [
    "#### Renomeando os estados nas transições"
   ]
  },
  {
   "cell_type": "markdown",
   "metadata": {},
   "source": [
    "##### Organizando as duplas"
   ]
  },
  {
   "cell_type": "code",
   "execution_count": 12,
   "metadata": {},
   "outputs": [
    {
     "name": "stdout",
     "output_type": "stream",
     "text": [
      "[['s2', 's3'], ['s2', 's4'], ['s3', 's4']]\n"
     ]
    }
   ],
   "source": [
    "sortequiv = []\n",
    "for dupla in equiv:\n",
    "    if sorted(dupla) not in sortequiv:\n",
    "        sortequiv.append(sorted(dupla))\n",
    "\n",
    "print(sortequiv)"
   ]
  },
  {
   "cell_type": "markdown",
   "metadata": {},
   "source": [
    "##### Juntando compatíveis"
   ]
  },
  {
   "cell_type": "code",
   "execution_count": 13,
   "metadata": {},
   "outputs": [
    {
     "name": "stdout",
     "output_type": "stream",
     "text": [
      "[['s2', 's3', 's4']]\n"
     ]
    }
   ],
   "source": [
    "pcompativeis = []\n",
    "estadoscompt = []\n",
    "for dupla in sortequiv:\n",
    "    for estd in dupla:\n",
    "        if(estd not in estadoscompt):\n",
    "            estadoscompt.append(estd)\n",
    "#print(estadoscompt)\n",
    "for td in estadoscompt:\n",
    "    tds = []\n",
    "    for duplinha in sortequiv:\n",
    "        if(td in duplinha):\n",
    "            tds = tds + duplinha\n",
    "    if(sorted(set(tds)) not in pcompativeis):\n",
    "        pcompativeis.append(sorted(set(tds)))\n",
    "print(pcompativeis)\n"
   ]
  },
  {
   "cell_type": "markdown",
   "metadata": {},
   "source": [
    "#### Renomeia as transições"
   ]
  },
  {
   "cell_type": "code",
   "execution_count": 19,
   "metadata": {},
   "outputs": [
    {
     "name": "stdout",
     "output_type": "stream",
     "text": [
      "[[['s0', 'r', 's1'], ['s0', 'b', 's2s3s4']], [['s1', 'r', 's2s3s4'], ['s1', 'b', 's2s3s4']], [['s2s3s4', 'r', 's2s3s4'], ['s2s3s4', 'b', 's5']], [['s2s3s4', 'r', 's2s3s4'], ['s2s3s4', 'b', 's6']], [['s2s3s4', 'r', 's2s3s4'], ['s2s3s4', 'b', 's6']], [['s5', 'r', 's2s3s4'], ['s5', 'b', 's2s3s4']], [['s6', 'r', 's2s3s4'], ['s6', 'b', 's6']]]\n"
     ]
    }
   ],
   "source": [
    "\n",
    "for transisp in newTrs:\n",
    "    for transi in transisp:\n",
    "        for compativeis in pcompativeis:\n",
    "            for frac in compativeis:\n",
    "                nome = str()\n",
    "                for part in compativeis:\n",
    "                    nome = str(nome.strip(\"''\") + part.strip(\"'\"))\n",
    "                if(str(transi[0]) == frac):\n",
    "                    transi[0] = str(nome)\n",
    "                if(str(transi[2]) == frac):\n",
    "                    transi[2] = str(nome)\n",
    "            \n",
    "        # print(transi)\n",
    "        \n",
    "\n",
    "print(newTrs)"
   ]
  },
  {
   "cell_type": "code",
   "execution_count": null,
   "metadata": {},
   "outputs": [],
   "source": []
  },
  {
   "cell_type": "code",
   "execution_count": null,
   "metadata": {},
   "outputs": [],
   "source": []
  }
 ],
 "metadata": {
  "kernelspec": {
   "display_name": "Python 3",
   "language": "python",
   "name": "python3"
  },
  "language_info": {
   "codemirror_mode": {
    "name": "ipython",
    "version": 3
   },
   "file_extension": ".py",
   "mimetype": "text/x-python",
   "name": "python",
   "nbconvert_exporter": "python",
   "pygments_lexer": "ipython3",
   "version": "3.7.3"
  }
 },
 "nbformat": 4,
 "nbformat_minor": 2
}
